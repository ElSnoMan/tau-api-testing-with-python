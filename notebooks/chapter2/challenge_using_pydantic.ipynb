{
 "metadata": {
  "language_info": {
   "codemirror_mode": {
    "name": "ipython",
    "version": 3
   },
   "file_extension": ".py",
   "mimetype": "text/x-python",
   "name": "python",
   "nbconvert_exporter": "python",
   "pygments_lexer": "ipython3",
   "version": "3.9.1-final"
  },
  "orig_nbformat": 2,
  "kernelspec": {
   "name": "python3",
   "display_name": "Python 3.9.1 64-bit ('api-testing-with-python-prep-QaBduts8-py3.9': venv)",
   "metadata": {
    "interpreter": {
     "hash": "c1fd4d130ad376603e9160b98814da470b6bc749d8254a3a60862334b9b9bbc3"
    }
   }
  }
 },
 "nbformat": 4,
 "nbformat_minor": 2,
 "cells": [
  {
   "source": [
    "# Chapter 2 - JSONS & Dictionaries: Using Pydantic\n",
    "\n",
    "Working with small and simple Dictionaries is easy, but as you start scaling and working with larger, more complex objects, the dynamic typing of Python makes this more difficult.\n",
    "\n",
    "Fortunately, [**Pydantic**](https://pydantic-docs.helpmanual.io/) is a powerful library that solves this!\n",
    "\n",
    "### Deck of Cards API\n",
    "\n",
    "In this notebook, we will use the [Deck of Cards API](https://deckofcardsapi.com/) which is a free, open source API for playing with face cards!\n",
    "\n",
    "❤️ ♠️ ♦️ ♣️\n",
    "---\n",
    "---\n",
    "\n",
    "### Pydantic\n",
    "\n",
    "You will need to install `pydantic` in your project.\n",
    "\n",
    ">💡 In Google Colab, `pydantic` is **NOT already** installed!\n",
    "\n",
    "```python\n",
    "pip install pydantic\n",
    "\n",
    "# or your preferred package manager\n",
    "\n",
    "pipenv install pydantic\n",
    "\n",
    "# ---or---\n",
    "\n",
    "poetry add pydantic\n",
    "```"
   ],
   "cell_type": "markdown",
   "metadata": {}
  },
  {
   "cell_type": "code",
   "execution_count": null,
   "metadata": {},
   "outputs": [],
   "source": [
    "\"\"\" Install pydantic (only if needed)\n",
    "\n",
    "* Don't run this cell if you already have pydantic installed in your project\n",
    "* Run this cell if you are running this notebook in Google Colaboratory\n",
    "\"\"\"\n",
    "!pip install pydantic"
   ]
  },
  {
   "cell_type": "code",
   "execution_count": 1,
   "metadata": {},
   "outputs": [
    {
     "output_type": "stream",
     "name": "stdout",
     "text": [
      "{'success': True, 'deck_id': 'f3p3jssmam15', 'remaining': 52, 'shuffled': True}\n"
     ]
    }
   ],
   "source": [
    "\"\"\" Continue from where we left off in the previous chapter \"\"\"\n",
    "import requests\n",
    "\n",
    "URL = 'https://deckofcardsapi.com/api/deck/new/shuffle/?deck_count=1'\n",
    "response = requests.get(URL)\n",
    "print(response.json())"
   ]
  },
  {
   "cell_type": "code",
   "execution_count": 2,
   "metadata": {},
   "outputs": [],
   "source": [
    "\"\"\" Represent this JSON as a Pydantic Model \"\"\"\n",
    "from pydantic import BaseModel\n",
    "\n",
    "class NewDeckModel(BaseModel):\n",
    "    deck_id   : str\n",
    "    remaining : int\n",
    "    success   : bool\n",
    "    shuffled  : bool"
   ]
  },
  {
   "cell_type": "code",
   "execution_count": 3,
   "metadata": {},
   "outputs": [
    {
     "output_type": "stream",
     "name": "stdout",
     "text": [
      "deck_id='f3p3jssmam15' remaining=52 success=True shuffled=True\n"
     ]
    }
   ],
   "source": [
    "\"\"\" Unpack the Response JSON into the Model \"\"\"\n",
    "new_deck = NewDeckModel(**response.json())\n",
    "\n",
    "# no errors means that the JSON adheres to the Model Schema!\n",
    "# change deck_id to `int` in the Model and see what happens\n",
    "print(new_deck)"
   ]
  },
  {
   "cell_type": "code",
   "execution_count": 4,
   "metadata": {},
   "outputs": [
    {
     "output_type": "stream",
     "name": "stdout",
     "text": [
      "f3p3jssmam15\n52\nTrue\nTrue\n"
     ]
    }
   ],
   "source": [
    "\"\"\" We also get intellisense & autocomplete! \"\"\"\n",
    "print(new_deck.deck_id)   # instead of new_deck['deck_id'] with no intellisense\n",
    "print(new_deck.remaining)\n",
    "print(new_deck.success)\n",
    "print(new_deck.shuffled)"
   ]
  },
  {
   "source": [
    "## Models that share fields\n",
    "\n",
    "As you deal with a lot of these Models and Schemas, there will be times when you see **shared fields**.\n",
    "\n",
    "For example, when you draw cards from this API, the Response also includes:\n",
    "\n",
    "* `deck_id`\n",
    "* `remaining`\n",
    "* `success`\n",
    "\n",
    ">💡 This is very close to the `NewDeckModel` except for the `shuffled` field.\n",
    "\n",
    "### The challenge\n",
    "---\n",
    "Create a `DeckModel` class that the `NewDeckModel` can use _without_ duplicating fields.\n",
    "\n",
    ">💭 Eventually, we will create a `DrawCardsModel` class that can _also_ use it."
   ],
   "cell_type": "markdown",
   "metadata": {}
  },
  {
   "cell_type": "code",
   "execution_count": 5,
   "metadata": {},
   "outputs": [
    {
     "output_type": "stream",
     "name": "stdout",
     "text": [
      "deck_id='f3p3jssmam15' remaining=52 success=True shuffled=True\n"
     ]
    }
   ],
   "source": [
    "from pydantic import BaseModel\n",
    "\n",
    "class DeckModel(BaseModel):\n",
    "    deck_id   : str\n",
    "    remaining : int\n",
    "    success   : bool\n",
    "\n",
    "\n",
    "class NewDeckModel(DeckModel):\n",
    "    shuffled: bool\n",
    "\n",
    "\n",
    "new_deck = NewDeckModel(**response.json())\n",
    "print(new_deck)"
   ]
  },
  {
   "source": [
    "## Use data from Response to make another Request\n",
    "\n",
    "It is very common to use data from one Request or Response to make another Request.\n",
    "\n",
    "For example, your app might have this flow:\n",
    "\n",
    "1. Create a User with the `/user` endpoint which returns a `UserModel` object\n",
    "2. Then authenticate the user given their `user.id` with the `/auth` endpoint\n",
    "\n",
    "---\n",
    "👀 Look at the URL for the Draw Cards endpoint. It requires:\n",
    "\n",
    "* `deck_id` of the deck to draw from\n",
    "* `count` for the number of cards to draw\n",
    "\n",
    "```\n",
    "https://deckofcardsapi.com/api/deck/<<deck_id>>/draw/?count=2\n",
    "```\n",
    "\n",
    "💪🏽 You probably figured it out, but we already have the `deck_id`!"
   ],
   "cell_type": "markdown",
   "metadata": {}
  },
  {
   "cell_type": "code",
   "execution_count": 6,
   "metadata": {},
   "outputs": [
    {
     "output_type": "stream",
     "name": "stdout",
     "text": [
      "{'success': True, 'deck_id': 'f3p3jssmam15', 'cards': [{'code': 'QD', 'image': 'https://deckofcardsapi.com/static/img/QD.png', 'images': {'svg': 'https://deckofcardsapi.com/static/img/QD.svg', 'png': 'https://deckofcardsapi.com/static/img/QD.png'}, 'value': 'QUEEN', 'suit': 'DIAMONDS'}, {'code': '0H', 'image': 'https://deckofcardsapi.com/static/img/0H.png', 'images': {'svg': 'https://deckofcardsapi.com/static/img/0H.svg', 'png': 'https://deckofcardsapi.com/static/img/0H.png'}, 'value': '10', 'suit': 'HEARTS'}], 'remaining': 50}\n"
     ]
    }
   ],
   "source": [
    "\"\"\" Use our new_deck to draw 2 cards from it \"\"\"\n",
    "DRAW_CARDS_URL = f'https://deckofcardsapi.com/api/deck/{new_deck.deck_id}/draw/?count=2'\n",
    "\n",
    "response = requests.get(DRAW_CARDS_URL)\n",
    "print(response.json())"
   ]
  },
  {
   "source": [
    "## Your Challenge\n",
    "\n",
    "Create the `DrawCardsModel` class and unpack the `response.json()` into it successfully.\n",
    "\n",
    "* Your model **must** use the `DeckModel`\n",
    "* Unpacking `response.json()` should raise no errors\n",
    "* Assert that 2 cards are drawn\n",
    "\n",
    ">💡 **HINT:** The `cards` field is a list of Card objects, so make a `Card` or `CardModel` class to represent it.\n",
    "\n",
    "```python\n",
    "from typing import List\n",
    "\n",
    "class Card(BaseModel):\n",
    "    ...\n",
    "\n",
    "class Example(BaseModel):\n",
    "    cards: List[Card]\n",
    "```"
   ],
   "cell_type": "markdown",
   "metadata": {}
  }
 ]
}