{
 "metadata": {
  "language_info": {
   "codemirror_mode": {
    "name": "ipython",
    "version": 3
   },
   "file_extension": ".py",
   "mimetype": "text/x-python",
   "name": "python",
   "nbconvert_exporter": "python",
   "pygments_lexer": "ipython3",
   "version": "3.9.1-final"
  },
  "orig_nbformat": 2,
  "kernelspec": {
   "name": "python3",
   "display_name": "Python 3",
   "language": "python"
  }
 },
 "nbformat": 4,
 "nbformat_minor": 2,
 "cells": [
  {
   "source": [
    "# Chapter 2 Solution!\n",
    "\n",
    "This notebook contains the solution to the Chapter 2 Notebook called\n",
    "\n",
    "`challenge_using_pydantic.ipynb`\n",
    "\n",
    "### Your Challenge\n",
    "\n",
    "Create the `DrawCardsModel` class and unpack the `response.json()` into it successfully.\n",
    "\n",
    "* Your model **must** use the `DeckModel`\n",
    "* Unpacking `response.json()` should raise no errors\n",
    "* Assert that 2 cards are drawn\n",
    "\n",
    ">💡 **HINT:** The `cards` field is a list of Card objects, so make a `Card` or `CardModel` class to represent it.\n",
    "\n",
    "```python\n",
    "from typing import List\n",
    "\n",
    "class Card(BaseModel):\n",
    "    ...\n",
    "\n",
    "class Example(BaseModel):\n",
    "    cards: List[Card]\n",
    "```"
   ],
   "cell_type": "markdown",
   "metadata": {}
  },
  {
   "cell_type": "code",
   "execution_count": null,
   "metadata": {},
   "outputs": [],
   "source": [
    "\"\"\" Install pydantic (only if needed)\n",
    "\n",
    "* Don't run this cell if you already have pydantic installed in your project\n",
    "* Run this cell if you are running this notebook in Google Colaboratory\n",
    "\"\"\"\n",
    "!pip install pydantic"
   ]
  },
  {
   "cell_type": "code",
   "execution_count": 1,
   "metadata": {},
   "outputs": [],
   "source": [
    "\"\"\" Define the models we'll be working with \"\"\"\n",
    "from typing import List\n",
    "from pydantic import BaseModel\n",
    "\n",
    "\n",
    "class DeckModel(BaseModel):\n",
    "    deck_id   : str\n",
    "    remaining : int\n",
    "    success   : bool\n",
    "\n",
    "\n",
    "class NewDeckModel(DeckModel):\n",
    "    shuffled: bool\n",
    "\n",
    "\n",
    "class CardModel(BaseModel):\n",
    "    image : str\n",
    "    value : str\n",
    "    suit  : str\n",
    "    code  : str\n",
    "\n",
    "\n",
    "class DrawCardsModel(DeckModel):\n",
    "    cards: List[CardModel]"
   ]
  },
  {
   "cell_type": "code",
   "execution_count": 2,
   "metadata": {},
   "outputs": [
    {
     "output_type": "stream",
     "name": "stdout",
     "text": [
      "deck_id='l946nkhg3ty1' remaining=52 success=True shuffled=True\ndeck_id='l946nkhg3ty1' remaining=50 success=True cards=[CardModel(image='https://deckofcardsapi.com/static/img/7D.png', value='7', suit='DIAMONDS', code='7D'), CardModel(image='https://deckofcardsapi.com/static/img/AH.png', value='ACE', suit='HEARTS', code='AH')]\n"
     ]
    }
   ],
   "source": [
    "\"\"\" Make the requests and unpack them into our models \"\"\"\n",
    "import requests\n",
    "\n",
    "NEW_DECK_URL = 'https://deckofcardsapi.com/api/deck/new/shuffle/?deck_count=1'\n",
    "deck_response = requests.get(NEW_DECK_URL)\n",
    "deck = NewDeckModel(**deck_response.json())\n",
    "\n",
    "DRAW_CARDS_URL = f'https://deckofcardsapi.com/api/deck/{deck.deck_id}/draw/?count=2'\n",
    "draw_response = requests.get(DRAW_CARDS_URL)\n",
    "draw = DrawCardsModel(**draw_response.json())\n",
    "\n",
    "print(deck)\n",
    "print(draw)"
   ]
  },
  {
   "cell_type": "code",
   "execution_count": 3,
   "metadata": {},
   "outputs": [],
   "source": [
    "\"\"\" Assert that 2 cards were drawn \"\"\"\n",
    "assert draw.remaining == 50\n",
    "\n",
    "# ---and/or---\n",
    "\n",
    "assert len(draw.cards) == 2"
   ]
  }
 ]
}