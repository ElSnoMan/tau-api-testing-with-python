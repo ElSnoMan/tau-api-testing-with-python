{
 "metadata": {
  "language_info": {
   "codemirror_mode": {
    "name": "ipython",
    "version": 3
   },
   "file_extension": ".py",
   "mimetype": "text/x-python",
   "name": "python",
   "nbconvert_exporter": "python",
   "pygments_lexer": "ipython3",
   "version": "3.9.1-final"
  },
  "orig_nbformat": 2,
  "kernelspec": {
   "name": "python3",
   "display_name": "Python 3",
   "language": "python"
  }
 },
 "nbformat": 4,
 "nbformat_minor": 2,
 "cells": [
  {
   "source": [
    "# Chapter 1 Solution!\n",
    "\n",
    "This notebook contains the solution to the Chapter 1 Notebook called\n",
    "\n",
    "`challenge_python-requests.ipynb`\n",
    "\n",
    "### The Challenge\n",
    "\n",
    "Write two assertions to make sure that:\n",
    "\n",
    "* deck_id has a string value\n",
    "* shuffled is True\n",
    "\n"
   ],
   "cell_type": "markdown",
   "metadata": {}
  },
  {
   "cell_type": "code",
   "execution_count": 1,
   "metadata": {},
   "outputs": [],
   "source": [
    "import requests\n",
    "\n",
    "URL = 'https://deckofcardsapi.com/api/deck/new/shuffle/?deck_count=1'\n",
    "response = requests.get(URL)\n",
    "\n",
    "deck = response.json()\n",
    "assert type(deck['deck_id']) == str\n",
    "assert deck['shuffled'] is True"
   ]
  }
 ]
}