{
 "metadata": {
  "language_info": {
   "codemirror_mode": {
    "name": "ipython",
    "version": 3
   },
   "file_extension": ".py",
   "mimetype": "text/x-python",
   "name": "python",
   "nbconvert_exporter": "python",
   "pygments_lexer": "ipython3",
   "version": "3.9.1-final"
  },
  "orig_nbformat": 2,
  "kernelspec": {
   "name": "python3",
   "display_name": "Python 3",
   "language": "python"
  }
 },
 "nbformat": 4,
 "nbformat_minor": 2,
 "cells": [
  {
   "source": [
    "# Chapter 1 - Understanding REST APIs\n",
    "\n",
    "> If you want to learn more about Google Colab, watch [this YouTube video](https://www.youtube.com/watch?v=inN8seMm7UI)\n",
    "\n",
    "### Deck of Cards API\n",
    "\n",
    "In this notebook, we will use the [Deck of Cards API](https://deckofcardsapi.com/) which is a free, open source API for playing with face cards!\n",
    "\n",
    "❤️ ♠️ ♦️ ♣️\n",
    "---\n",
    "---\n",
    "\n",
    "### Python Requests\n",
    "\n",
    "In 🐍 Python 🐍, the main library we use to interact with REST APIs is called `requests`.\n",
    "\n",
    "So, you will need to install it in your project.\n",
    "\n",
    ">💡 In Google Colab, `requests` is **already** installed!\n",
    "\n",
    "```python\n",
    "pip install requests\n",
    "\n",
    "# or your preferred package manager\n",
    "\n",
    "pipenv install requests\n",
    "\n",
    "# ---or---\n",
    "\n",
    "poetry add requests\n",
    "```\n",
    "\n",
    "Then you can import it into any Python file and start using it!\n"
   ],
   "cell_type": "markdown",
   "metadata": {}
  },
  {
   "cell_type": "code",
   "execution_count": 1,
   "metadata": {},
   "outputs": [
    {
     "output_type": "stream",
     "name": "stdout",
     "text": [
      "<Response [200]>\n"
     ]
    }
   ],
   "source": [
    "import requests\n",
    "\n",
    "URL = 'https://deckofcardsapi.com/api/deck/new/shuffle/?deck_count=1'\n",
    "response = requests.get(URL)\n",
    "print(response)"
   ]
  },
  {
   "cell_type": "code",
   "execution_count": 2,
   "metadata": {},
   "outputs": [
    {
     "output_type": "execute_result",
     "data": {
      "text/plain": [
       "True"
      ]
     },
     "metadata": {},
     "execution_count": 2
    }
   ],
   "source": [
    "\"\"\" The Response object includes a lot! \"\"\"\n",
    "response.ok"
   ]
  },
  {
   "cell_type": "code",
   "execution_count": 3,
   "metadata": {},
   "outputs": [
    {
     "output_type": "execute_result",
     "data": {
      "text/plain": [
       "'{\"success\": true, \"deck_id\": \"xfy726qjz5uz\", \"remaining\": 52, \"shuffled\": true}'"
      ]
     },
     "metadata": {},
     "execution_count": 3
    }
   ],
   "source": [
    "\"\"\" You can easily get all of the reponse text \"\"\"\n",
    "response.text"
   ]
  },
  {
   "cell_type": "code",
   "execution_count": 4,
   "metadata": {},
   "outputs": [
    {
     "output_type": "execute_result",
     "data": {
      "text/plain": [
       "str"
      ]
     },
     "metadata": {},
     "execution_count": 4
    }
   ],
   "source": [
    "\"\"\" But it's a string, which isn't the best if you want to use the JSON body... \"\"\"\n",
    "type(response.text)"
   ]
  },
  {
   "cell_type": "code",
   "execution_count": 5,
   "metadata": {},
   "outputs": [
    {
     "output_type": "execute_result",
     "data": {
      "text/plain": [
       "{'success': True, 'deck_id': 'xfy726qjz5uz', 'remaining': 52, 'shuffled': True}"
      ]
     },
     "metadata": {},
     "execution_count": 5
    }
   ],
   "source": [
    "\"\"\" Luckily, this is easy to get as well! \"\"\"\n",
    "response.json()"
   ]
  },
  {
   "cell_type": "code",
   "execution_count": 6,
   "metadata": {},
   "outputs": [],
   "source": [
    "\"\"\" Our Challenge\n",
    "\n",
    "Write an assertion that checks our newly created deck has 52 cards.\n",
    "\n",
    "> HINT: JSON objects are called \"Dictionaries\" in Python\n",
    "\"\"\"\n",
    "assert response.json()['remaining'] == 52"
   ]
  },
  {
   "cell_type": "code",
   "execution_count": null,
   "metadata": {},
   "outputs": [],
   "source": [
    "\"\"\" Your Challenge\n",
    "\n",
    "Write two assertions to make sure that:\n",
    "\n",
    "* deck_id has a string value\n",
    "* shuffled is True\n",
    "\"\"\""
   ]
  }
 ]
}