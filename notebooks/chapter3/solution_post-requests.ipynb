{
 "metadata": {
  "language_info": {
   "codemirror_mode": {
    "name": "ipython",
    "version": 3
   },
   "file_extension": ".py",
   "mimetype": "text/x-python",
   "name": "python",
   "nbconvert_exporter": "python",
   "pygments_lexer": "ipython3",
   "version": "3.9.1-final"
  },
  "orig_nbformat": 2,
  "kernelspec": {
   "name": "python3",
   "display_name": "Python 3.9.1 64-bit ('api-testing-with-python-prep-QaBduts8-py3.9': venv)",
   "metadata": {
    "interpreter": {
     "hash": "c1fd4d130ad376603e9160b98814da470b6bc749d8254a3a60862334b9b9bbc3"
    }
   }
  }
 },
 "nbformat": 4,
 "nbformat_minor": 2,
 "cells": [
  {
   "source": [
    "# Challenge 3 Solution!\n",
    "\n",
    "This notebook contains the solution to the Chapter 3 Notebook called\n",
    "\n",
    "`challenge_post-requests.ipynb`\n",
    "\n",
    "### Your Challenge\n",
    "\n",
    "Create the function that calls the `/Account/v1/Authorized` endpoint which is used to check if a given user is authorized or not.\n",
    "\n",
    "**STEPS:**\n",
    "\n",
    "1. Create an authorized user\n",
    "2. Assert they are authorized using this endpoint\n",
    "3. Then delete the user.\n",
    "\n",
    "**OPTIONAL BONUS:**\n",
    "\n",
    "Define Models with Pydantic to use for the `create_user()` and `generate_token()` functions!"
   ],
   "cell_type": "markdown",
   "metadata": {}
  },
  {
   "cell_type": "code",
   "execution_count": null,
   "metadata": {},
   "outputs": [],
   "source": [
    "\"\"\" Install pydantic (only if needed)\n",
    "\n",
    "* Don't run this cell if you already have pydantic installed in your project\n",
    "* Run this cell if you are running this notebook in Google Colaboratory\n",
    "\"\"\"\n",
    "!pip install pydantic"
   ]
  },
  {
   "cell_type": "code",
   "execution_count": 1,
   "metadata": {},
   "outputs": [],
   "source": [
    "\"\"\" Define our models \"\"\"\n",
    "from typing import List\n",
    "from pydantic import BaseModel\n",
    "\n",
    "\n",
    "class BookModel(BaseModel):\n",
    "    isbn: str\n",
    "    title: str\n",
    "    subTitle: str\n",
    "    author: str\n",
    "    publish_date: str  # they combine camelCase and snake_case... this is a design flaw and should stick with a single convention\n",
    "    publisher: str\n",
    "    pages: int\n",
    "    description: str\n",
    "    website: str\n",
    "\n",
    "\n",
    "class UserModel(BaseModel):\n",
    "    userID: str  # their docs show `userId`, but their implementation has `userID`... a breach of contract and a bug!\n",
    "    username: str\n",
    "    books: List[BookModel]\n",
    "\n",
    "\n",
    "class TokenModel(BaseModel):\n",
    "    token: str\n",
    "    expires: str  # this Date object is in string form, but Pydantic can validate Dates as well. Check out their docs for more info!\n",
    "    status: str\n",
    "    result: str"
   ]
  },
  {
   "cell_type": "code",
   "execution_count": 2,
   "metadata": {},
   "outputs": [],
   "source": [
    "\"\"\" Define our functions using parameters and our models as a return type \"\"\"\n",
    "import requests\n",
    "from requests import Response\n",
    "\n",
    "\n",
    "BASE_URL = 'https://demoqa.com'\n",
    "ACCOUNT_URL = BASE_URL + '/Account/v1'\n",
    "\n",
    "\n",
    "def create_user(username, password) -> UserModel:\n",
    "    payload = {'userName': username, 'password': password}\n",
    "    response = requests.post(f'{ACCOUNT_URL}/User', json=payload)\n",
    "    if response.ok:\n",
    "        return UserModel(**response.json())\n",
    "    else:\n",
    "        # if response is not ok, raise an error. Maybe a ValueError, ConnectionError, or your own custom error!\n",
    "        raise ValueError(f'Unable to create user: {response.content}')\n",
    "\n",
    "\n",
    "def generate_token(username, password) -> TokenModel:\n",
    "    payload = {'userName': username, 'password': password}\n",
    "    response = requests.post(f'{ACCOUNT_URL}/GenerateToken', json=payload)\n",
    "    if response.ok:\n",
    "        return TokenModel(**response.json())\n",
    "    else:\n",
    "        raise ValueError(f'Unable to generate token: {response.content}')\n",
    "\n",
    "\n",
    "def delete_user(user_id, token) -> Response:\n",
    "    headers = {'Authorization': f'Bearer {token}'}\n",
    "    response = requests.delete(f'{ACCOUNT_URL}/User/{user_id}', headers=headers)\n",
    "    if response.ok:\n",
    "        return response\n",
    "    else:\n",
    "        raise ValueError(f'Unable to delete user: {response.content}')\n",
    "\n",
    "\n",
    "def is_authorized(username, password) -> bool:\n",
    "    payload = {'userName': username, 'password': password}\n",
    "    response = requests.post(f'{ACCOUNT_URL}/Authorized', json=payload)\n",
    "\n",
    "    # we can also write our if/else block this way\n",
    "    if not response.ok:\n",
    "        raise ConnectionError(f'Unable to authorize user: {response.content}')\n",
    "\n",
    "    return response.json()"
   ]
  },
  {
   "cell_type": "code",
   "execution_count": 3,
   "metadata": {},
   "outputs": [
    {
     "output_type": "stream",
     "name": "stdout",
     "text": [
      "User deleted? True\n"
     ]
    }
   ],
   "source": [
    "\"\"\" Create a user, generate a token for that user, then assert that they're authorized \"\"\"\n",
    "CREDENTIALS = 'post requests username', 'P@$$w0rd'\n",
    "\n",
    "user  = create_user(*CREDENTIALS)\n",
    "token = generate_token(*CREDENTIALS)\n",
    "\n",
    "assert is_authorized(*CREDENTIALS) is True\n",
    "\n",
    "deletion = delete_user(user.userID, token.token)\n",
    "print('User deleted?', deletion.ok)"
   ]
  }
 ]
}